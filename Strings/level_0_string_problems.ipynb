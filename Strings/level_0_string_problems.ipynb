{
 "cells": [
  {
   "cell_type": "markdown",
   "id": "298c1239",
   "metadata": {},
   "source": [
    "# 🔤 Level 0 - Python String Warm-Up Problems\n",
    "\n",
    "This notebook contains beginner-level string problems to help you build confidence before tackling Leetcode Easy problems.\n",
    "\n",
    "Try each function on your own before checking the solution!\n"
   ]
  },
  {
   "cell_type": "markdown",
   "id": "f4858878",
   "metadata": {},
   "source": [
    "### Problem 1: Count Vowels\n",
    "Write a function that counts the number of vowels (`a, e, i, o, u`) in a string.\n",
    "\n",
    "```python\n",
    "count_vowels('hello')  # returns 2\n",
    "```"
   ]
  },
  {
   "cell_type": "code",
   "execution_count": 7,
   "id": "c2d30f81",
   "metadata": {},
   "outputs": [
    {
     "name": "stdout",
     "output_type": "stream",
     "text": [
      "Hello\n"
     ]
    }
   ],
   "source": [
    "print(\"Hello\")"
   ]
  },
  {
   "cell_type": "code",
   "execution_count": 14,
   "id": "6e295d68",
   "metadata": {},
   "outputs": [
    {
     "data": {
      "text/plain": [
       "2"
      ]
     },
     "execution_count": 14,
     "metadata": {},
     "output_type": "execute_result"
    }
   ],
   "source": [
    "\n",
    "# Try solving it here:\n",
    "def count_vowels(s):\n",
    "    count=0\n",
    "    for i in range(len(s)):\n",
    "        if s[i] in \"a,e,i,o,u\":\n",
    "            count +=1\n",
    "    return count\n",
    "\n",
    "count_vowels(\"Hello\")"
   ]
  },
  {
   "cell_type": "code",
   "execution_count": 6,
   "id": "c280acff",
   "metadata": {},
   "outputs": [],
   "source": [
    "# Solution:\n",
    "def count_vowels(s):\n",
    "    count = 0\n",
    "    for char in s:\n",
    "        if char.lower() in 'aeiou':\n",
    "            count += 1\n",
    "    return count"
   ]
  },
  {
   "cell_type": "markdown",
   "id": "fe317bae",
   "metadata": {},
   "source": [
    "### Problem 2: Is Palindrome\n",
    "Check if a string reads the same forwards and backwards.\n",
    "\n",
    "```python\n",
    "is_palindrome('racecar')  # returns True\n",
    "```"
   ]
  },
  {
   "cell_type": "code",
   "execution_count": null,
   "id": "a70cb587",
   "metadata": {},
   "outputs": [],
   "source": [
    "# Try solving it here:\n",
    "def is_palindrome(s):\n",
    "    pass"
   ]
  },
  {
   "cell_type": "code",
   "execution_count": null,
   "id": "1e3e3c9b",
   "metadata": {},
   "outputs": [],
   "source": [
    "# Solution:\n",
    "def is_palindrome(s):\n",
    "    return s == s[::-1]"
   ]
  },
  {
   "cell_type": "markdown",
   "id": "0bd7f042",
   "metadata": {},
   "source": [
    "### Problem 3: Reverse String\n",
    "Return the reverse of the string.\n",
    "\n",
    "```python\n",
    "reverse_string('cat')  # returns 'tac'\n",
    "```"
   ]
  },
  {
   "cell_type": "code",
   "execution_count": null,
   "id": "12dcfc9e",
   "metadata": {},
   "outputs": [],
   "source": [
    "# Try solving it here:\n",
    "def reverse_string(s):\n",
    "    pass"
   ]
  },
  {
   "cell_type": "code",
   "execution_count": null,
   "id": "0f8f03c5",
   "metadata": {},
   "outputs": [],
   "source": [
    "# Solution:\n",
    "def reverse_string(s):\n",
    "    return s[::-1]"
   ]
  },
  {
   "cell_type": "markdown",
   "id": "696ce90b",
   "metadata": {},
   "source": [
    "### Problem 4: Capitalize First Letters\n",
    "Capitalize the first letter of each word in a sentence.\n",
    "\n",
    "```python\n",
    "capitalize_first('hello world')  # returns 'Hello World'\n",
    "```"
   ]
  },
  {
   "cell_type": "code",
   "execution_count": null,
   "id": "3e2a32d5",
   "metadata": {},
   "outputs": [],
   "source": [
    "# Try solving it here:\n",
    "def capitalize_first(s):\n",
    "    pass"
   ]
  },
  {
   "cell_type": "code",
   "execution_count": null,
   "id": "3715f4b2",
   "metadata": {},
   "outputs": [],
   "source": [
    "# Solution:\n",
    "def capitalize_first(s):\n",
    "    return ' '.join(word.capitalize() for word in s.split())"
   ]
  },
  {
   "cell_type": "markdown",
   "id": "e2908e1f",
   "metadata": {},
   "source": [
    "### Problem 5: Remove Spaces\n",
    "Remove all spaces from a string.\n",
    "\n",
    "```python\n",
    "remove_spaces('a b c')  # returns 'abc'\n",
    "```"
   ]
  },
  {
   "cell_type": "code",
   "execution_count": null,
   "id": "fd1b9b38",
   "metadata": {},
   "outputs": [],
   "source": [
    "# Try solving it here:\n",
    "def remove_spaces(s):\n",
    "    pass"
   ]
  },
  {
   "cell_type": "code",
   "execution_count": null,
   "id": "86fcfebf",
   "metadata": {},
   "outputs": [],
   "source": [
    "# Solution:\n",
    "def remove_spaces(s):\n",
    "    return s.replace(' ', '')"
   ]
  },
  {
   "cell_type": "markdown",
   "id": "1d040519",
   "metadata": {},
   "source": [
    "### Problem 6: Is Alphabetic Only\n",
    "Check if a string contains only letters.\n",
    "\n",
    "```python\n",
    "is_alpha('abc123')  # returns False\n",
    "```"
   ]
  },
  {
   "cell_type": "code",
   "execution_count": null,
   "id": "81ef52d4",
   "metadata": {},
   "outputs": [],
   "source": [
    "# Try solving it here:\n",
    "def is_alpha(s):\n",
    "    pass"
   ]
  },
  {
   "cell_type": "code",
   "execution_count": null,
   "id": "e9b5b438",
   "metadata": {},
   "outputs": [],
   "source": [
    "# Solution:\n",
    "def is_alpha(s):\n",
    "    return s.isalpha()"
   ]
  }
 ],
 "metadata": {
  "kernelspec": {
   "display_name": "base",
   "language": "python",
   "name": "python3"
  },
  "language_info": {
   "codemirror_mode": {
    "name": "ipython",
    "version": 3
   },
   "file_extension": ".py",
   "mimetype": "text/x-python",
   "name": "python",
   "nbconvert_exporter": "python",
   "pygments_lexer": "ipython3",
   "version": "3.12.7"
  }
 },
 "nbformat": 4,
 "nbformat_minor": 5
}
